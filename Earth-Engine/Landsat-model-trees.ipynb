{
 "cells": [
  {
   "cell_type": "code",
   "execution_count": 1,
   "id": "c66d49a7",
   "metadata": {},
   "outputs": [],
   "source": [
    "import ee\n",
    "import geemap"
   ]
  },
  {
   "cell_type": "code",
   "execution_count": 2,
   "id": "7ea91bba",
   "metadata": {},
   "outputs": [],
   "source": [
    "Map = geemap.Map()"
   ]
  },
  {
   "cell_type": "code",
   "execution_count": 3,
   "id": "ab0379fb",
   "metadata": {},
   "outputs": [
    {
     "data": {
      "application/vnd.jupyter.widget-view+json": {
       "model_id": "b86e0deafdeb475b98942c1d4788fb09",
       "version_major": 2,
       "version_minor": 0
      },
      "text/plain": [
       "Map(center=[20, 0], controls=(WidgetControl(options=['position', 'transparent_bg'], widget=HBox(children=(Togg…"
      ]
     },
     "metadata": {},
     "output_type": "display_data"
    }
   ],
   "source": [
    "Map"
   ]
  },
  {
   "cell_type": "code",
   "execution_count": 4,
   "id": "bb7a2434",
   "metadata": {},
   "outputs": [],
   "source": [
    "#get the NLCD image 2016\n",
    "NLCD = ee.Image('USGS/NLCD/NLCD2016').select('landcover')\n",
    "Map.addLayer(NLCD, {}, 'NLCD')"
   ]
  },
  {
   "cell_type": "code",
   "execution_count": 5,
   "id": "06d8c7a9",
   "metadata": {},
   "outputs": [],
   "source": [
    "#look at the metadata\n",
    "NLCD_meta = ee.FeatureCollection('users/giswqs/landcover/NLCD2016_metadata')\n",
    "Map.addLayer(NLCD_meta, {}, 'NLCD Metadata')"
   ]
  },
  {
   "cell_type": "code",
   "execution_count": 6,
   "id": "64746d89",
   "metadata": {},
   "outputs": [],
   "source": [
    "#create a point for huntsville\n",
    "point = ee.Geometry.Point([-86.58, 34.72])"
   ]
  },
  {
   "cell_type": "code",
   "execution_count": 7,
   "id": "509d435b",
   "metadata": {},
   "outputs": [],
   "source": [
    "#filter metadata to huntsville point\n",
    "metadata = NLCD_meta.filterBounds(point).first()\n",
    "region = metadata.geometry()"
   ]
  },
  {
   "cell_type": "code",
   "execution_count": 8,
   "id": "16ffd0c9",
   "metadata": {},
   "outputs": [
    {
     "data": {
      "text/plain": [
       "'LC08_2016283'"
      ]
     },
     "execution_count": 8,
     "metadata": {},
     "output_type": "execute_result"
    }
   ],
   "source": [
    "metadata.get('2016on_bas').getInfo()"
   ]
  },
  {
   "cell_type": "code",
   "execution_count": 9,
   "id": "cdbaf246",
   "metadata": {},
   "outputs": [
    {
     "data": {
      "text/plain": [
       "'2016283'"
      ]
     },
     "execution_count": 9,
     "metadata": {},
     "output_type": "execute_result"
    }
   ],
   "source": [
    "doy = metadata.get('2016on_bas').getInfo().replace('LC08_', '')\n",
    "doy"
   ]
  },
  {
   "cell_type": "code",
   "execution_count": 10,
   "id": "692265b6",
   "metadata": {},
   "outputs": [
    {
     "data": {
      "text/plain": [
       "'2016-10-09'"
      ]
     },
     "execution_count": 10,
     "metadata": {},
     "output_type": "execute_result"
    }
   ],
   "source": [
    "ee.Date.parse('YYYYDDD', doy).format('YYYY-MM-dd').getInfo()"
   ]
  },
  {
   "cell_type": "code",
   "execution_count": 11,
   "id": "096ff420",
   "metadata": {},
   "outputs": [],
   "source": [
    "#filter landsat imagery by the point \n",
    "startdate = ee.Date.parse('YYYYDDD', doy)\n",
    "enddate = startdate.advance(1, 'day')"
   ]
  },
  {
   "cell_type": "code",
   "execution_count": 12,
   "id": "adf6006b",
   "metadata": {},
   "outputs": [],
   "source": [
    "image = ee.ImageCollection('LANDSAT/LC08/C01/T1_SR').filterBounds(point).filterDate(startdate, enddate).first().select('B[1-7]').clip(region)"
   ]
  },
  {
   "cell_type": "code",
   "execution_count": 13,
   "id": "0fac9c14",
   "metadata": {},
   "outputs": [],
   "source": [
    "vis_params = {\n",
    "    'min': 0,\n",
    "    'max': 3000,\n",
    "    'bands': ['B5', 'B4', 'B3']\n",
    "}"
   ]
  },
  {
   "cell_type": "code",
   "execution_count": 14,
   "id": "3514f985",
   "metadata": {},
   "outputs": [
    {
     "data": {
      "application/vnd.jupyter.widget-view+json": {
       "model_id": "b86e0deafdeb475b98942c1d4788fb09",
       "version_major": 2,
       "version_minor": 0
      },
      "text/plain": [
       "Map(center=[34.720000000000006, -86.58], controls=(WidgetControl(options=['position', 'transparent_bg'], widge…"
      ]
     },
     "metadata": {},
     "output_type": "display_data"
    }
   ],
   "source": [
    "Map.centerObject(point, 8)\n",
    "Map.addLayer(image, vis_params, 'landsat-8')\n",
    "Map"
   ]
  },
  {
   "cell_type": "code",
   "execution_count": 15,
   "id": "37e6252a",
   "metadata": {},
   "outputs": [],
   "source": [
    "#clip the NLCD to the study region. \n",
    "nlcd_raw = NLCD.clip(region)\n",
    "Map.addLayer(nlcd_raw, {}, 'NLCD_clip')"
   ]
  },
  {
   "cell_type": "code",
   "execution_count": 16,
   "id": "fe1521e7",
   "metadata": {},
   "outputs": [
    {
     "name": "stdout",
     "output_type": "stream",
     "text": [
      "[11, 12, 21, 22, 23, 24, 31, 41, 42, 43, 51, 52, 71, 72, 73, 74, 81, 82, 90, 95]\n"
     ]
    }
   ],
   "source": [
    "#get the class values \n",
    "raw_class_values = nlcd_raw.get('landcover_class_values').getInfo()\n",
    "print(raw_class_values)"
   ]
  },
  {
   "cell_type": "code",
   "execution_count": 17,
   "id": "656bb7f5",
   "metadata": {},
   "outputs": [
    {
     "data": {
      "text/plain": [
       "[0, 1, 2, 3, 4, 5, 6, 7, 8, 9, 10, 11, 12, 13, 14, 15, 16, 17, 18, 19]"
      ]
     },
     "execution_count": 17,
     "metadata": {},
     "output_type": "execute_result"
    }
   ],
   "source": [
    "#remap the classes from 0-len of class values list. \n",
    "n_classes = len(raw_class_values)\n",
    "new_class_values = list(range(0, n_classes))\n",
    "new_class_values"
   ]
  },
  {
   "cell_type": "code",
   "execution_count": 18,
   "id": "9be635e8",
   "metadata": {},
   "outputs": [
    {
     "name": "stdout",
     "output_type": "stream",
     "text": [
      "['476ba1', 'd1defa', 'decaca', 'd99482', 'ee0000', 'ab0000', 'b3aea3', '68ab63', '1c6330', 'b5ca8f', 'a68c30', 'ccba7d', 'e3e3c2', 'caca78', '99c247', '78ae94', 'dcd93d', 'ab7028', 'bad9eb', '70a3ba']\n"
     ]
    }
   ],
   "source": [
    "class_palette = nlcd_raw.get('landcover_class_palette').getInfo()\n",
    "print(class_palette)"
   ]
  },
  {
   "cell_type": "code",
   "execution_count": 19,
   "id": "dde2737f",
   "metadata": {},
   "outputs": [],
   "source": [
    "#create new, remaped landcover bands\n",
    "nlcd = nlcd_raw.remap(raw_class_values, new_class_values).select(['remapped'], ['landcover'])\n",
    "nlcd = nlcd.set('landcover_class_values', new_class_values)\n",
    "nlcd = nlcd.set('landcover_class_palette', class_palette)"
   ]
  },
  {
   "cell_type": "code",
   "execution_count": 20,
   "id": "82f52799",
   "metadata": {},
   "outputs": [
    {
     "data": {
      "application/vnd.jupyter.widget-view+json": {
       "model_id": "b86e0deafdeb475b98942c1d4788fb09",
       "version_major": 2,
       "version_minor": 0
      },
      "text/plain": [
       "Map(center=[34.720000000000006, -86.58], controls=(WidgetControl(options=['position', 'transparent_bg'], widge…"
      ]
     },
     "metadata": {},
     "output_type": "display_data"
    }
   ],
   "source": [
    "Map.addLayer(nlcd, {}, 'NLCD_remaped')\n",
    "Map"
   ]
  },
  {
   "cell_type": "code",
   "execution_count": 21,
   "id": "ad991e51",
   "metadata": {},
   "outputs": [],
   "source": [
    "#make the training data \n",
    "points = nlcd.sample(**{\n",
    "    'region': region,\n",
    "    'scale': 30,\n",
    "    'numPixels': 5000,\n",
    "    'seed': 0,\n",
    "    'geometries': True\n",
    "})\n",
    "\n",
    "Map.addLayer(points, {}, 'training')"
   ]
  },
  {
   "cell_type": "code",
   "execution_count": 22,
   "id": "99217f26",
   "metadata": {},
   "outputs": [
    {
     "data": {
      "text/plain": [
       "5000"
      ]
     },
     "execution_count": 22,
     "metadata": {},
     "output_type": "execute_result"
    }
   ],
   "source": [
    "points.size().getInfo()"
   ]
  },
  {
   "cell_type": "code",
   "execution_count": 23,
   "id": "b2d417f1",
   "metadata": {
    "scrolled": true
   },
   "outputs": [
    {
     "name": "stdout",
     "output_type": "stream",
     "text": [
      "{'type': 'Feature', 'geometry': {'type': 'Point', 'coordinates': [-85.76019437562952, 34.24361130908887]}, 'id': '0', 'properties': {'landcover': 8}}\n"
     ]
    }
   ],
   "source": [
    "print(points.first().getInfo())"
   ]
  },
  {
   "cell_type": "code",
   "execution_count": 24,
   "id": "1bf65c85",
   "metadata": {},
   "outputs": [],
   "source": [
    "#create the training data\n",
    "bands = ['B1', 'B2', 'B3', 'B4', 'B5', 'B6', 'B7']\n",
    "\n",
    "#landcover label\n",
    "label = 'landcover'\n",
    "\n",
    "#sample the imagery for training data\n",
    "sample = image.select(bands).sampleRegions(**{\n",
    "    'collection': points,\n",
    "    'properties': [label],\n",
    "    'scale': 30,\n",
    "})\n",
    "\n",
    "#add column of numbers to randomize by \n",
    "sample = sample.randomColumn()\n",
    "\n",
    "#train test split for validation\n",
    "split = 0.7\n",
    "\n",
    "training = sample.filter(ee.Filter.lt('random', split))\n",
    "validation = sample.filter(ee.Filter.gte('random', split))\n"
   ]
  },
  {
   "cell_type": "code",
   "execution_count": 25,
   "id": "679ace41",
   "metadata": {},
   "outputs": [
    {
     "name": "stdout",
     "output_type": "stream",
     "text": [
      "{'type': 'Feature', 'geometry': None, 'id': '1_0', 'properties': {'B1': 110, 'B2': 140, 'B3': 341, 'B4': 227, 'B5': 2843, 'B6': 1360, 'B7': 535, 'landcover': 7, 'random': 0.16635075374547859}}\n"
     ]
    }
   ],
   "source": [
    "print(training.first().getInfo())"
   ]
  },
  {
   "cell_type": "code",
   "execution_count": 26,
   "id": "5692e53c",
   "metadata": {},
   "outputs": [
    {
     "name": "stdout",
     "output_type": "stream",
     "text": [
      "{'type': 'Feature', 'geometry': None, 'id': '0_0', 'properties': {'B1': 83, 'B2': 113, 'B3': 279, 'B4': 190, 'B5': 2442, 'B6': 929, 'B7': 368, 'landcover': 8, 'random': 0.8142236509732306}}\n"
     ]
    }
   ],
   "source": [
    "print(validation.first().getInfo())"
   ]
  },
  {
   "cell_type": "code",
   "execution_count": 27,
   "id": "131991df",
   "metadata": {},
   "outputs": [],
   "source": [
    "#train the classifier \n",
    "classifier = ee.Classifier.smileRandomForest(10).train(training, label, bands)"
   ]
  },
  {
   "cell_type": "code",
   "execution_count": 28,
   "id": "f6e7bb81",
   "metadata": {},
   "outputs": [
    {
     "name": "stdout",
     "output_type": "stream",
     "text": [
      "{'type': 'Classifier.train', 'classifier': {'type': 'Classifier.smileRandomForest', 'numberOfTrees': 10}, 'features': {'type': 'FeatureCollection', 'columns': {'random': '<any>'}}, 'classProperty': 'landcover', 'inputProperties': ['B1', 'B2', 'B3', 'B4', 'B5', 'B6', 'B7']}\n"
     ]
    }
   ],
   "source": [
    "print(classifier.getInfo())"
   ]
  },
  {
   "cell_type": "code",
   "execution_count": 29,
   "id": "83629c2c",
   "metadata": {},
   "outputs": [],
   "source": [
    "result = image.select(bands).classify(classifier)\n",
    "Map.addLayer(result.randomVisualizer(), {}, 'classified')"
   ]
  },
  {
   "cell_type": "code",
   "execution_count": 30,
   "id": "bb368685",
   "metadata": {},
   "outputs": [
    {
     "data": {
      "application/vnd.jupyter.widget-view+json": {
       "model_id": "b86e0deafdeb475b98942c1d4788fb09",
       "version_major": 2,
       "version_minor": 0
      },
      "text/plain": [
       "Map(center=[34.720000000000006, -86.58], controls=(WidgetControl(options=['position', 'transparent_bg'], widge…"
      ]
     },
     "metadata": {},
     "output_type": "display_data"
    }
   ],
   "source": [
    "Map"
   ]
  },
  {
   "cell_type": "code",
   "execution_count": 31,
   "id": "dfff3294",
   "metadata": {},
   "outputs": [
    {
     "name": "stdout",
     "output_type": "stream",
     "text": [
      "[0, 1, 2, 3, 4, 5, 6, 7, 8, 9, 10, 11, 12, 13, 14, 15, 16, 17, 18, 19]\n"
     ]
    }
   ],
   "source": [
    "#get the class values and palette and set them to the image \n",
    "class_values = nlcd.get('landcover_class_values').getInfo()\n",
    "print(class_values)"
   ]
  },
  {
   "cell_type": "code",
   "execution_count": 32,
   "id": "b0b15fbd",
   "metadata": {},
   "outputs": [
    {
     "name": "stdout",
     "output_type": "stream",
     "text": [
      "['476ba1', 'd1defa', 'decaca', 'd99482', 'ee0000', 'ab0000', 'b3aea3', '68ab63', '1c6330', 'b5ca8f', 'a68c30', 'ccba7d', 'e3e3c2', 'caca78', '99c247', '78ae94', 'dcd93d', 'ab7028', 'bad9eb', '70a3ba']\n"
     ]
    }
   ],
   "source": [
    "class_palette = nlcd.get('landcover_class_palette').getInfo()\n",
    "print(class_palette)"
   ]
  },
  {
   "cell_type": "code",
   "execution_count": 33,
   "id": "9d2b5f0b",
   "metadata": {},
   "outputs": [],
   "source": [
    "landcover = result.set('classification_class_values', class_values)\n",
    "landcover = landcover.set('classification_class_palette', class_palette)"
   ]
  },
  {
   "cell_type": "code",
   "execution_count": 34,
   "id": "5d0fa6dd",
   "metadata": {},
   "outputs": [],
   "source": [
    "Map.addLayer(landcover, {}, 'Land Cover - Random Forest')"
   ]
  },
  {
   "cell_type": "code",
   "execution_count": 35,
   "id": "8298b06b",
   "metadata": {},
   "outputs": [
    {
     "name": "stdout",
     "output_type": "stream",
     "text": [
      "Change Opacity: \n"
     ]
    },
    {
     "data": {
      "application/vnd.jupyter.widget-view+json": {
       "model_id": "a6f6db5c8aff4e8098c3fceba859239c",
       "version_major": 2,
       "version_minor": 0
      },
      "text/plain": [
       "Box(children=(FloatSlider(value=1.0, description='opacity', max=1.0),))"
      ]
     },
     "metadata": {},
     "output_type": "display_data"
    }
   ],
   "source": [
    "print('Change Opacity: ')\n",
    "cluster_layer = Map.layers[-1]\n",
    "cluster_layer.interact(opacity=(0, 1, 0.1))"
   ]
  },
  {
   "cell_type": "code",
   "execution_count": 36,
   "id": "a33892e8",
   "metadata": {},
   "outputs": [],
   "source": [
    "#add a legend \n",
    "Map.add_legend(builtin_legend='NLCD')\n",
    "#Map.remove_legends()"
   ]
  },
  {
   "cell_type": "code",
   "execution_count": 37,
   "id": "f5385738",
   "metadata": {},
   "outputs": [],
   "source": [
    "train_acc = classifier.confusionMatrix()"
   ]
  },
  {
   "cell_type": "code",
   "execution_count": 38,
   "id": "f816adb1",
   "metadata": {},
   "outputs": [
    {
     "data": {
      "text/plain": [
       "[[101, 0, 0, 0, 0, 0, 0, 2, 0, 0, 0, 0, 0, 0, 0, 0, 0, 0, 0, 0],\n",
       " [0, 0, 0, 0, 0, 0, 0, 0, 0, 0, 0, 0, 0, 0, 0, 0, 0, 0, 0, 0],\n",
       " [1, 0, 178, 2, 0, 0, 0, 9, 1, 1, 0, 0, 0, 0, 0, 0, 13, 1, 0, 0],\n",
       " [0, 0, 1, 91, 2, 0, 0, 0, 0, 0, 0, 0, 0, 0, 0, 0, 2, 0, 0, 0],\n",
       " [0, 0, 0, 3, 35, 0, 0, 0, 0, 0, 0, 0, 0, 0, 0, 0, 0, 0, 0, 0],\n",
       " [0, 0, 0, 0, 0, 7, 0, 0, 0, 0, 0, 0, 0, 0, 0, 0, 1, 0, 0, 0],\n",
       " [0, 0, 0, 0, 0, 0, 2, 0, 0, 0, 0, 0, 0, 0, 0, 0, 0, 0, 0, 0],\n",
       " [0, 0, 1, 0, 0, 0, 0, 1337, 2, 4, 0, 0, 0, 0, 0, 0, 8, 0, 0, 0],\n",
       " [0, 0, 2, 0, 0, 0, 0, 11, 227, 2, 0, 0, 0, 0, 0, 0, 2, 2, 0, 0],\n",
       " [1, 0, 0, 0, 0, 0, 0, 39, 8, 214, 0, 0, 0, 0, 0, 0, 1, 0, 0, 0],\n",
       " [0, 0, 0, 0, 0, 0, 0, 0, 0, 0, 0, 0, 0, 0, 0, 0, 0, 0, 0, 0],\n",
       " [0, 0, 1, 0, 0, 0, 0, 9, 2, 0, 0, 70, 0, 0, 0, 0, 2, 0, 0, 0],\n",
       " [0, 0, 2, 0, 0, 0, 0, 2, 0, 0, 0, 0, 67, 0, 0, 0, 10, 0, 0, 0],\n",
       " [0, 0, 0, 0, 0, 0, 0, 0, 0, 0, 0, 0, 0, 0, 0, 0, 0, 0, 0, 0],\n",
       " [0, 0, 0, 0, 0, 0, 0, 0, 0, 0, 0, 0, 0, 0, 0, 0, 0, 0, 0, 0],\n",
       " [0, 0, 0, 0, 0, 0, 0, 0, 0, 0, 0, 0, 0, 0, 0, 0, 0, 0, 0, 0],\n",
       " [0, 0, 2, 0, 0, 0, 0, 17, 2, 1, 0, 0, 2, 0, 0, 0, 768, 5, 0, 0],\n",
       " [0, 0, 1, 0, 0, 0, 0, 1, 0, 0, 0, 1, 1, 0, 0, 0, 8, 163, 0, 0],\n",
       " [0, 0, 0, 0, 0, 0, 0, 11, 0, 1, 0, 0, 1, 0, 0, 0, 1, 0, 45, 0],\n",
       " [0, 0, 0, 0, 0, 0, 0, 0, 0, 0, 0, 0, 0, 0, 0, 0, 1, 0, 0, 5]]"
      ]
     },
     "execution_count": 38,
     "metadata": {},
     "output_type": "execute_result"
    }
   ],
   "source": [
    "train_acc.getInfo()"
   ]
  },
  {
   "cell_type": "code",
   "execution_count": 39,
   "id": "189c5d97",
   "metadata": {},
   "outputs": [
    {
     "data": {
      "text/plain": [
       "0.941410693970421"
      ]
     },
     "execution_count": 39,
     "metadata": {},
     "output_type": "execute_result"
    }
   ],
   "source": [
    "#sum of diagonal divided by all numbers\n",
    "train_acc.accuracy().getInfo()"
   ]
  },
  {
   "cell_type": "code",
   "execution_count": 40,
   "id": "34e74a4c",
   "metadata": {},
   "outputs": [
    {
     "data": {
      "text/plain": [
       "0.9241130354261963"
      ]
     },
     "execution_count": 40,
     "metadata": {},
     "output_type": "execute_result"
    }
   ],
   "source": [
    "#kappa - 0-1, 1 is better suggesting that it is better than random\n",
    "train_acc.kappa().getInfo()"
   ]
  },
  {
   "cell_type": "code",
   "execution_count": 41,
   "id": "7d0d0059",
   "metadata": {},
   "outputs": [
    {
     "data": {
      "text/plain": [
       "[[0.988905325443787], [0.9227642276422764], [0.8136882129277566]]"
      ]
     },
     "execution_count": 41,
     "metadata": {},
     "output_type": "execute_result"
    }
   ],
   "source": [
    "#percentage of correct - percent incorrect for each class of tree\n",
    "train_acc.producersAccuracy().getInfo()[7:10]\n",
    "#train_acc.producersAccuracy().getInfo()\n",
    "#Deciduous, Evergreen, Mixed"
   ]
  },
  {
   "cell_type": "code",
   "execution_count": 42,
   "id": "eca1417d",
   "metadata": {},
   "outputs": [],
   "source": [
    "validated = validation.classify(classifier) "
   ]
  },
  {
   "cell_type": "code",
   "execution_count": 43,
   "id": "45ad0d35",
   "metadata": {},
   "outputs": [
    {
     "data": {
      "text/plain": [
       "{'type': 'Feature',\n",
       " 'geometry': None,\n",
       " 'id': '0_0',\n",
       " 'properties': {'B1': 83,\n",
       "  'B2': 113,\n",
       "  'B3': 279,\n",
       "  'B4': 190,\n",
       "  'B5': 2442,\n",
       "  'B6': 929,\n",
       "  'B7': 368,\n",
       "  'classification': 8,\n",
       "  'landcover': 8,\n",
       "  'random': 0.8142236509732306}}"
      ]
     },
     "execution_count": 43,
     "metadata": {},
     "output_type": "execute_result"
    }
   ],
   "source": [
    "validated.first().getInfo()"
   ]
  },
  {
   "cell_type": "code",
   "execution_count": 44,
   "id": "cbba6c11",
   "metadata": {},
   "outputs": [],
   "source": [
    "randomForrest_test_accuracy = validated.errorMatrix('landcover', 'classification')"
   ]
  },
  {
   "cell_type": "code",
   "execution_count": 45,
   "id": "7f652489",
   "metadata": {},
   "outputs": [
    {
     "data": {
      "text/plain": [
       "0.6030997304582211"
      ]
     },
     "execution_count": 45,
     "metadata": {},
     "output_type": "execute_result"
    }
   ],
   "source": [
    "randomForrest_validation = randomForrest_test_accuracy.accuracy().getInfo()\n",
    "randomForrest_validation"
   ]
  },
  {
   "cell_type": "code",
   "execution_count": 46,
   "id": "c8c6b9c5",
   "metadata": {},
   "outputs": [
    {
     "data": {
      "text/plain": [
       "0.46445392222758003"
      ]
     },
     "execution_count": 46,
     "metadata": {},
     "output_type": "execute_result"
    }
   ],
   "source": [
    "rfkappa = randomForrest_test_accuracy.kappa().getInfo()\n",
    "rfkappa"
   ]
  },
  {
   "cell_type": "code",
   "execution_count": 47,
   "id": "6d4f9ad4",
   "metadata": {},
   "outputs": [
    {
     "data": {
      "text/plain": [
       "[[0.8754512635379061], [0.5137614678899083], [0.08943089430894309]]"
      ]
     },
     "execution_count": 47,
     "metadata": {},
     "output_type": "execute_result"
    }
   ],
   "source": [
    "rfproducersacc = randomForrest_test_accuracy.producersAccuracy().getInfo()[7:10]\n",
    "#rfproducersacc = randomForrest_test_accuracy.producersAccuracy().getInfo()\n",
    "rfproducersacc"
   ]
  },
  {
   "cell_type": "code",
   "execution_count": 48,
   "id": "c0f156d3",
   "metadata": {},
   "outputs": [],
   "source": [
    "#compare to a different model - smilecart regressor\n",
    "classifier2 = ee.Classifier.smileCart().train(training, label, bands)"
   ]
  },
  {
   "cell_type": "code",
   "execution_count": 49,
   "id": "d5e9049b",
   "metadata": {},
   "outputs": [],
   "source": [
    "result2 = image.select(bands).classify(classifier2)"
   ]
  },
  {
   "cell_type": "code",
   "execution_count": 50,
   "id": "c5060d1b",
   "metadata": {},
   "outputs": [],
   "source": [
    "landcover2 = result2.set('classification_class_values', class_values)\n",
    "landcover2 = landcover2.set('classification_class_palette', class_palette)"
   ]
  },
  {
   "cell_type": "code",
   "execution_count": 51,
   "id": "711c2a88",
   "metadata": {},
   "outputs": [],
   "source": [
    "Map.addLayer(landcover2, {}, 'Landcover - SmileCart')"
   ]
  },
  {
   "cell_type": "code",
   "execution_count": 52,
   "id": "43c99fd5",
   "metadata": {},
   "outputs": [
    {
     "data": {
      "application/vnd.jupyter.widget-view+json": {
       "model_id": "b86e0deafdeb475b98942c1d4788fb09",
       "version_major": 2,
       "version_minor": 0
      },
      "text/plain": [
       "Map(center=[34.720000000000006, -86.58], controls=(WidgetControl(options=['position', 'transparent_bg'], widge…"
      ]
     },
     "metadata": {},
     "output_type": "display_data"
    }
   ],
   "source": [
    "Map"
   ]
  },
  {
   "cell_type": "code",
   "execution_count": 53,
   "id": "2e8bc324",
   "metadata": {},
   "outputs": [
    {
     "data": {
      "text/plain": [
       "1"
      ]
     },
     "execution_count": 53,
     "metadata": {},
     "output_type": "execute_result"
    }
   ],
   "source": [
    "#accuracy\n",
    "train_acc2 = classifier2.confusionMatrix()\n",
    "train_acc2.accuracy().getInfo()"
   ]
  },
  {
   "cell_type": "code",
   "execution_count": 54,
   "id": "560c977c",
   "metadata": {},
   "outputs": [],
   "source": [
    "validation = validation.classify(classifier2)"
   ]
  },
  {
   "cell_type": "code",
   "execution_count": 55,
   "id": "96b27892",
   "metadata": {},
   "outputs": [],
   "source": [
    "smile_cart_test_accuracy = validation.errorMatrix('landcover', 'classification')"
   ]
  },
  {
   "cell_type": "code",
   "execution_count": 56,
   "id": "5d22297f",
   "metadata": {},
   "outputs": [
    {
     "data": {
      "text/plain": [
       "0.4946091644204852"
      ]
     },
     "execution_count": 56,
     "metadata": {},
     "output_type": "execute_result"
    }
   ],
   "source": [
    "smilecart_validation = smile_cart_test_accuracy.accuracy().getInfo()\n",
    "smilecart_validation"
   ]
  },
  {
   "cell_type": "code",
   "execution_count": 57,
   "id": "ad9c5741",
   "metadata": {},
   "outputs": [
    {
     "data": {
      "text/plain": [
       "0.35995307472677246"
      ]
     },
     "execution_count": 57,
     "metadata": {},
     "output_type": "execute_result"
    }
   ],
   "source": [
    "smilekappa = smile_cart_test_accuracy.kappa().getInfo()\n",
    "smilekappa"
   ]
  },
  {
   "cell_type": "code",
   "execution_count": 58,
   "id": "c417db42",
   "metadata": {},
   "outputs": [
    {
     "data": {
      "text/plain": [
       "{'Deciduous Forest': 0.6787003610108303,\n",
       " 'Evergreen Forest': 0.46788990825688076,\n",
       " 'Mixed Forest': 0.17073170731707318,\n",
       " 'Kappa': 0.35995307472677246}"
      ]
     },
     "execution_count": 58,
     "metadata": {},
     "output_type": "execute_result"
    }
   ],
   "source": [
    "smileproducersacc = smile_cart_test_accuracy.producersAccuracy().getInfo()[7:10]\n",
    "smileproducersacc = [i for sublist in smileproducersacc for i in sublist]\n",
    "smile_dict = {'Deciduous Forest': smileproducersacc[0], 'Evergreen Forest': smileproducersacc[1], 'Mixed Forest': smileproducersacc[2], 'Kappa': smilekappa}\n",
    "smile_dict"
   ]
  },
  {
   "cell_type": "code",
   "execution_count": 59,
   "id": "46e55096",
   "metadata": {},
   "outputs": [],
   "source": [
    "import pandas as pd\n",
    "smile_df = pd.DataFrame(data=smile_dict, index=[0])"
   ]
  },
  {
   "cell_type": "code",
   "execution_count": 60,
   "id": "5b37f976",
   "metadata": {},
   "outputs": [
    {
     "data": {
      "text/plain": [
       "Text(0.5, 1.0, 'SmileCart Producers Accuracy')"
      ]
     },
     "execution_count": 60,
     "metadata": {},
     "output_type": "execute_result"
    },
    {
     "data": {
      "image/png": "[encoded data removed]",
      "text/plain": [
       "<Figure size 432x288 with 1 Axes>"
      ]
     },
     "metadata": {
      "needs_background": "light"
     },
     "output_type": "display_data"
    }
   ],
   "source": [
    "import seaborn as sns\n",
    "barplot = sns.barplot(data=smile_df)\n",
    "barplot.set_xticklabels(labels=smile_df.columns, rotation=30)\n",
    "barplot.set_ylabel('Accuracy')\n",
    "barplot.bar_label(barplot.containers[0])\n",
    "barplot.set_title('SmileCart Producers Accuracy')"
   ]
  },
  {
   "cell_type": "code",
   "execution_count": 61,
   "id": "e0d89557",
   "metadata": {},
   "outputs": [
    {
     "data": {
      "text/plain": [
       "{'Deciduous Forest': 0.8754512635379061,\n",
       " 'Evergreen Forest': 0.5137614678899083,\n",
       " 'Mixed Forest': 0.08943089430894309,\n",
       " 'Kappa': 0.46445392222758003}"
      ]
     },
     "execution_count": 61,
     "metadata": {},
     "output_type": "execute_result"
    }
   ],
   "source": [
    "rfproducersacc = [i for sublist in rfproducersacc for i in sublist]\n",
    "rf_dict = {'Deciduous Forest': rfproducersacc[0], 'Evergreen Forest': rfproducersacc[1], 'Mixed Forest': rfproducersacc[2], 'Kappa': rfkappa}\n",
    "rf_dict"
   ]
  },
  {
   "cell_type": "code",
   "execution_count": 62,
   "id": "9e699e02",
   "metadata": {},
   "outputs": [],
   "source": [
    "rf_df = pd.DataFrame(data=rf_dict, index=[0])"
   ]
  },
  {
   "cell_type": "code",
   "execution_count": 63,
   "id": "9caa2cbf",
   "metadata": {},
   "outputs": [
    {
     "data": {
      "text/plain": [
       "Text(0.5, 1.0, 'Random Forest (10 Trees) Producers Accuracy')"
      ]
     },
     "execution_count": 63,
     "metadata": {},
     "output_type": "execute_result"
    },
    {
     "data": {
      "image/png": "[encoded data removed]",
      "text/plain": [
       "<Figure size 432x288 with 1 Axes>"
      ]
     },
     "metadata": {
      "needs_background": "light"
     },
     "output_type": "display_data"
    }
   ],
   "source": [
    "barplot = sns.barplot(data=rf_df)\n",
    "barplot.set_xticklabels(labels=rf_df.columns, rotation=30)\n",
    "barplot.set_ylabel('Producers Accuracy')\n",
    "barplot.bar_label(barplot.containers[0])\n",
    "barplot.set_title('Random Forest (10 Trees) Producers Accuracy')"
   ]
  },
  {
   "cell_type": "code",
   "execution_count": 64,
   "id": "9817e0d2",
   "metadata": {},
   "outputs": [],
   "source": [
    "#lets test more trees for rf and see what happens\n",
    "classifier3 = ee.Classifier.smileRandomForest(100).train(training, label, bands)"
   ]
  },
  {
   "cell_type": "code",
   "execution_count": 65,
   "id": "07980541",
   "metadata": {},
   "outputs": [
    {
     "data": {
      "text/plain": [
       "0.9928896473265074"
      ]
     },
     "execution_count": 65,
     "metadata": {},
     "output_type": "execute_result"
    }
   ],
   "source": [
    "train_acc3 = classifier3.confusionMatrix()\n",
    "train_acc3.accuracy().getInfo()"
   ]
  },
  {
   "cell_type": "code",
   "execution_count": 66,
   "id": "653aa592",
   "metadata": {},
   "outputs": [],
   "source": [
    "validation = validation.classify(classifier3)"
   ]
  },
  {
   "cell_type": "code",
   "execution_count": 67,
   "id": "00675e3d",
   "metadata": {},
   "outputs": [
    {
     "data": {
      "text/plain": [
       "0.6300539083557951"
      ]
     },
     "execution_count": 67,
     "metadata": {},
     "output_type": "execute_result"
    }
   ],
   "source": [
    "rf100_test_accuracy = validation.errorMatrix('landcover', 'classification')\n",
    "rf100_test_accuracy.accuracy().getInfo()"
   ]
  },
  {
   "cell_type": "code",
   "execution_count": 68,
   "id": "0810fc8e",
   "metadata": {},
   "outputs": [
    {
     "data": {
      "text/plain": [
       "0.49621535118609983"
      ]
     },
     "execution_count": 68,
     "metadata": {},
     "output_type": "execute_result"
    }
   ],
   "source": [
    "rf100kappa = rf100_test_accuracy.kappa().getInfo()\n",
    "rf100kappa"
   ]
  },
  {
   "cell_type": "code",
   "execution_count": 69,
   "id": "d7fab494",
   "metadata": {},
   "outputs": [
    {
     "data": {
      "text/plain": [
       "[[0.9097472924187726], [0.5871559633027523], [0.06504065040650407]]"
      ]
     },
     "execution_count": 69,
     "metadata": {},
     "output_type": "execute_result"
    }
   ],
   "source": [
    "rf100producersacc = rf100_test_accuracy.producersAccuracy().getInfo()[7:10]\n",
    "rf100producersacc"
   ]
  },
  {
   "cell_type": "code",
   "execution_count": 70,
   "id": "58d4c260",
   "metadata": {},
   "outputs": [
    {
     "data": {
      "text/plain": [
       "{'Deciduous Forest': 0.9097472924187726,\n",
       " 'Evergreen Forest': 0.5871559633027523,\n",
       " 'Mixed Forest': 0.06504065040650407,\n",
       " 'Kappa': 0.49621535118609983}"
      ]
     },
     "execution_count": 70,
     "metadata": {},
     "output_type": "execute_result"
    }
   ],
   "source": [
    "rf100producersacc = [i for sublist in rf100producersacc for i in sublist]\n",
    "rf100_dict = {'Deciduous Forest': rf100producersacc[0], 'Evergreen Forest': rf100producersacc[1], 'Mixed Forest': rf100producersacc[2], 'Kappa': rf100kappa}\n",
    "rf100_dict"
   ]
  },
  {
   "cell_type": "code",
   "execution_count": 71,
   "id": "f730b214",
   "metadata": {},
   "outputs": [],
   "source": [
    "rf100_df = pd.DataFrame(data=rf100_dict, index=[0])"
   ]
  },
  {
   "cell_type": "code",
   "execution_count": 72,
   "id": "c580ff41",
   "metadata": {},
   "outputs": [
    {
     "data": {
      "text/plain": [
       "Text(0.5, 1.0, 'Random Forest (100 Trees) Producers Accuracy')"
      ]
     },
     "execution_count": 72,
     "metadata": {},
     "output_type": "execute_result"
    },
    {
     "data": {
      "image/png": "[encoded data removed]",
      "text/plain": [
       "<Figure size 432x288 with 1 Axes>"
      ]
     },
     "metadata": {
      "needs_background": "light"
     },
     "output_type": "display_data"
    }
   ],
   "source": [
    "barplot = sns.barplot(data=rf100_df)\n",
    "barplot.set_xticklabels(labels=rf100_df.columns, rotation=30)\n",
    "barplot.set_ylabel('Producers Accuracy')\n",
    "barplot.bar_label(barplot.containers[0])\n",
    "barplot.set_title('Random Forest (100 Trees) Producers Accuracy')"
   ]
  },
  {
   "cell_type": "code",
   "execution_count": null,
   "id": "de87ed2d",
   "metadata": {},
   "outputs": [],
   "source": []
  }
 ],
 "metadata": {
  "kernelspec": {
   "display_name": "Python 3 (ipykernel)",
   "language": "python",
   "name": "python3"
  },
  "language_info": {
   "codemirror_mode": {
    "name": "ipython",
    "version": 3
   },
   "file_extension": ".py",
   "mimetype": "text/x-python",
   "name": "python",
   "nbconvert_exporter": "python",
   "pygments_lexer": "ipython3",
   "version": "3.9.9"
  }
 },
 "nbformat": 4,
 "nbformat_minor": 5
}
