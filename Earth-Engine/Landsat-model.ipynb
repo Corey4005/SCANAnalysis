{
 "cells": [
  {
   "cell_type": "code",
   "execution_count": 2,
   "id": "c66d49a7",
   "metadata": {},
   "outputs": [],
   "source": [
    "import ee\n",
    "import geemap"
   ]
  },
  {
   "cell_type": "code",
   "execution_count": 3,
   "id": "7ea91bba",
   "metadata": {},
   "outputs": [
    {
     "data": {
      "text/html": [
       "<p>To authorize access needed by Earth Engine, open the following\n",
       "        URL in a web browser and follow the instructions:</p>\n",
       "        <p><a href=https://accounts.google.com/o/oauth2/auth?client_id=517222506229-vsmmajv00ul0bs7p89v5m89qs8eb9359.apps.googleusercontent.com&scope=https%3A%2F%2Fwww.googleapis.com%2Fauth%2Fearthengine+https%3A%2F%2Fwww.googleapis.com%2Fauth%2Fdevstorage.full_control&redirect_uri=urn%3Aietf%3Awg%3Aoauth%3A2.0%3Aoob&response_type=code&code_challenge=zJ6tGoiWYTi40Xb0WXxjqvL9Gk8IXgW4WXQXeRQexaw&code_challenge_method=S256>https://accounts.google.com/o/oauth2/auth?client_id=517222506229-vsmmajv00ul0bs7p89v5m89qs8eb9359.apps.googleusercontent.com&scope=https%3A%2F%2Fwww.googleapis.com%2Fauth%2Fearthengine+https%3A%2F%2Fwww.googleapis.com%2Fauth%2Fdevstorage.full_control&redirect_uri=urn%3Aietf%3Awg%3Aoauth%3A2.0%3Aoob&response_type=code&code_challenge=zJ6tGoiWYTi40Xb0WXxjqvL9Gk8IXgW4WXQXeRQexaw&code_challenge_method=S256</a></p>\n",
       "        <p>The authorization workflow will generate a code, which you\n",
       "        should paste in the box below</p>\n",
       "        "
      ],
      "text/plain": [
       "<IPython.core.display.HTML object>"
      ]
     },
     "metadata": {},
     "output_type": "display_data"
    },
    {
     "name": "stdout",
     "output_type": "stream",
     "text": [
      "Enter verification code: 4/1AX4XfWjlKuN8rW6j9tD03UajXd3RgffhH-SwtLFZqT_pKDvnGnS_H1wXghM\n",
      "\n",
      "Successfully saved authorization token.\n"
     ]
    }
   ],
   "source": [
    "Map = geemap.Map()"
   ]
  },
  {
   "cell_type": "code",
   "execution_count": 4,
   "id": "ab0379fb",
   "metadata": {},
   "outputs": [
    {
     "data": {
      "application/vnd.jupyter.widget-view+json": {
       "model_id": "4187aea5796045ebb3e3badbf7f7609b",
       "version_major": 2,
       "version_minor": 0
      },
      "text/plain": [
       "Map(center=[20, 0], controls=(WidgetControl(options=['position', 'transparent_bg'], widget=HBox(children=(Togg…"
      ]
     },
     "metadata": {},
     "output_type": "display_data"
    }
   ],
   "source": [
    "Map"
   ]
  },
  {
   "cell_type": "code",
   "execution_count": 7,
   "id": "bb7a2434",
   "metadata": {},
   "outputs": [],
   "source": [
    "#get the NLCD image 2016\n",
    "NLCD = ee.Image('USGS/NLCD/NLCD2016').select('landcover')\n",
    "Map.addLayer(NLCD, {}, 'NLCD')"
   ]
  },
  {
   "cell_type": "code",
   "execution_count": 10,
   "id": "06d8c7a9",
   "metadata": {},
   "outputs": [],
   "source": [
    "#look at the metadata\n",
    "NLCD_meta = ee.FeatureCollection('users/giswqs/landcover/NLCD2016_metadata')\n",
    "Map.addLayer(NLCD_meta, {}, 'NLCD Metadata')"
   ]
  },
  {
   "cell_type": "code",
   "execution_count": 11,
   "id": "64746d89",
   "metadata": {},
   "outputs": [],
   "source": [
    "#create a point for huntsville\n",
    "point = ee.Geometry.Point([-86.58, 34.72])"
   ]
  },
  {
   "cell_type": "code",
   "execution_count": 13,
   "id": "509d435b",
   "metadata": {},
   "outputs": [],
   "source": [
    "#filter metadata to huntsville point\n",
    "metadata = NLCD_meta.filterBounds(point).first()\n",
    "region = metadata.geometry()"
   ]
  },
  {
   "cell_type": "code",
   "execution_count": 15,
   "id": "16ffd0c9",
   "metadata": {},
   "outputs": [
    {
     "data": {
      "text/plain": [
       "'LC08_2016283'"
      ]
     },
     "execution_count": 15,
     "metadata": {},
     "output_type": "execute_result"
    }
   ],
   "source": [
    "metadata.get('2016on_bas').getInfo()"
   ]
  },
  {
   "cell_type": "code",
   "execution_count": 17,
   "id": "cdbaf246",
   "metadata": {},
   "outputs": [
    {
     "data": {
      "text/plain": [
       "'2016283'"
      ]
     },
     "execution_count": 17,
     "metadata": {},
     "output_type": "execute_result"
    }
   ],
   "source": [
    "doy = metadata.get('2016on_bas').getInfo().replace('LC08_', '')\n",
    "doy"
   ]
  },
  {
   "cell_type": "code",
   "execution_count": 20,
   "id": "692265b6",
   "metadata": {},
   "outputs": [
    {
     "data": {
      "text/plain": [
       "'2016-10-09'"
      ]
     },
     "execution_count": 20,
     "metadata": {},
     "output_type": "execute_result"
    }
   ],
   "source": [
    "ee.Date.parse('YYYYDDD', doy).format('YYYY-MM-dd').getInfo()"
   ]
  },
  {
   "cell_type": "code",
   "execution_count": 21,
   "id": "096ff420",
   "metadata": {},
   "outputs": [],
   "source": [
    "#filter landsat imagery by the point \n",
    "startdate = ee.Date.parse('YYYYDDD', doy)\n",
    "enddate = startdate.advance(1, 'day')"
   ]
  },
  {
   "cell_type": "code",
   "execution_count": 44,
   "id": "adf6006b",
   "metadata": {},
   "outputs": [],
   "source": [
    "image = ee.ImageCollection('LANDSAT/LC08/C01/T1_SR').filterBounds(point).filterDate(startdate, enddate).first().select('B[1-7]').clip(region)"
   ]
  },
  {
   "cell_type": "code",
   "execution_count": 27,
   "id": "0fac9c14",
   "metadata": {},
   "outputs": [],
   "source": [
    "vis_params = {\n",
    "    'min': 0,\n",
    "    'max': 3000,\n",
    "    'bands': ['B5', 'B4', 'B3']\n",
    "}"
   ]
  },
  {
   "cell_type": "code",
   "execution_count": 28,
   "id": "3514f985",
   "metadata": {},
   "outputs": [
    {
     "data": {
      "application/vnd.jupyter.widget-view+json": {
       "model_id": "4187aea5796045ebb3e3badbf7f7609b",
       "version_major": 2,
       "version_minor": 0
      },
      "text/plain": [
       "Map(bottom=3506.8182678222656, center=[34.720000000000006, -86.58], controls=(WidgetControl(options=['position…"
      ]
     },
     "metadata": {},
     "output_type": "display_data"
    }
   ],
   "source": [
    "Map.centerObject(point, 8)\n",
    "Map.addLayer(image, vis_params, 'landsat-8')\n",
    "Map"
   ]
  },
  {
   "cell_type": "code",
   "execution_count": 29,
   "id": "37e6252a",
   "metadata": {},
   "outputs": [],
   "source": [
    "#clip the NLCD to the study region. \n",
    "nlcd_raw = NLCD.clip(region)\n",
    "Map.addLayer(nlcd_raw, {}, 'NLCD_clip')"
   ]
  },
  {
   "cell_type": "code",
   "execution_count": 30,
   "id": "fe1521e7",
   "metadata": {},
   "outputs": [
    {
     "name": "stdout",
     "output_type": "stream",
     "text": [
      "[11, 12, 21, 22, 23, 24, 31, 41, 42, 43, 51, 52, 71, 72, 73, 74, 81, 82, 90, 95]\n"
     ]
    }
   ],
   "source": [
    "#get the class values \n",
    "raw_class_values = nlcd_raw.get('landcover_class_values').getInfo()\n",
    "print(raw_class_values)"
   ]
  },
  {
   "cell_type": "code",
   "execution_count": 31,
   "id": "656bb7f5",
   "metadata": {},
   "outputs": [
    {
     "data": {
      "text/plain": [
       "[0, 1, 2, 3, 4, 5, 6, 7, 8, 9, 10, 11, 12, 13, 14, 15, 16, 17, 18, 19]"
      ]
     },
     "execution_count": 31,
     "metadata": {},
     "output_type": "execute_result"
    }
   ],
   "source": [
    "#remap the classes from 0-len of class values list. \n",
    "n_classes = len(raw_class_values)\n",
    "new_class_values = list(range(0, n_classes))\n",
    "new_class_values"
   ]
  },
  {
   "cell_type": "code",
   "execution_count": 34,
   "id": "9be635e8",
   "metadata": {},
   "outputs": [
    {
     "name": "stdout",
     "output_type": "stream",
     "text": [
      "['476ba1', 'd1defa', 'decaca', 'd99482', 'ee0000', 'ab0000', 'b3aea3', '68ab63', '1c6330', 'b5ca8f', 'a68c30', 'ccba7d', 'e3e3c2', 'caca78', '99c247', '78ae94', 'dcd93d', 'ab7028', 'bad9eb', '70a3ba']\n"
     ]
    }
   ],
   "source": [
    "class_palette = nlcd_raw.get('landcover_class_palette').getInfo()\n",
    "print(class_palette)"
   ]
  },
  {
   "cell_type": "code",
   "execution_count": 35,
   "id": "dde2737f",
   "metadata": {},
   "outputs": [],
   "source": [
    "#create new, remaped landcover bands\n",
    "nlcd = nlcd_raw.remap(raw_class_values, new_class_values).select(['remapped'], ['landcover'])\n",
    "nlcd = nlcd.set('landcover_class_values', new_class_values)\n",
    "nlcd = nlcd.set('landcover_class_palette', class_palette)"
   ]
  },
  {
   "cell_type": "code",
   "execution_count": 36,
   "id": "82f52799",
   "metadata": {},
   "outputs": [
    {
     "data": {
      "application/vnd.jupyter.widget-view+json": {
       "model_id": "4187aea5796045ebb3e3badbf7f7609b",
       "version_major": 2,
       "version_minor": 0
      },
      "text/plain": [
       "Map(bottom=26179.0, center=[35.357696204467516, -84.94079589843751], controls=(WidgetControl(options=['positio…"
      ]
     },
     "metadata": {},
     "output_type": "display_data"
    }
   ],
   "source": [
    "Map.addLayer(nlcd, {}, 'NLCD_remaped')\n",
    "Map"
   ]
  },
  {
   "cell_type": "code",
   "execution_count": 40,
   "id": "ad991e51",
   "metadata": {},
   "outputs": [],
   "source": [
    "#make the training data \n",
    "points = nlcd.sample(**{\n",
    "    'region': region,\n",
    "    'scale': 30,\n",
    "    'numPixels': 5000,\n",
    "    'seed': 0,\n",
    "    'geometries': True\n",
    "})\n",
    "\n",
    "Map.addLayer(points, {}, 'training')"
   ]
  },
  {
   "cell_type": "code",
   "execution_count": 41,
   "id": "99217f26",
   "metadata": {},
   "outputs": [
    {
     "data": {
      "text/plain": [
       "5000"
      ]
     },
     "execution_count": 41,
     "metadata": {},
     "output_type": "execute_result"
    }
   ],
   "source": [
    "points.size().getInfo()"
   ]
  },
  {
   "cell_type": "code",
   "execution_count": 42,
   "id": "b2d417f1",
   "metadata": {},
   "outputs": [
    {
     "name": "stdout",
     "output_type": "stream",
     "text": [
      "{'type': 'Feature', 'geometry': {'type': 'Point', 'coordinates': [-85.76019437562952, 34.24361130908887]}, 'id': '0', 'properties': {'landcover': 8}}\n"
     ]
    }
   ],
   "source": [
    "print(points.first().getInfo())"
   ]
  }
 ],
 "metadata": {
  "kernelspec": {
   "display_name": "Python 3 (ipykernel)",
   "language": "python",
   "name": "python3"
  },
  "language_info": {
   "codemirror_mode": {
    "name": "ipython",
    "version": 3
   },
   "file_extension": ".py",
   "mimetype": "text/x-python",
   "name": "python",
   "nbconvert_exporter": "python",
   "pygments_lexer": "ipython3",
   "version": "3.9.7"
  }
 },
 "nbformat": 4,
 "nbformat_minor": 5
}
