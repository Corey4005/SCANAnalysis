{
 "cells": [
  {
   "cell_type": "code",
   "execution_count": 1,
   "id": "c66d49a7",
   "metadata": {},
   "outputs": [],
   "source": [
    "import ee\n",
    "import geemap"
   ]
  },
  {
   "cell_type": "code",
   "execution_count": 2,
   "id": "7ea91bba",
   "metadata": {},
   "outputs": [
    {
     "data": {
      "text/html": [
       "<p>To authorize access needed by Earth Engine, open the following\n",
       "        URL in a web browser and follow the instructions:</p>\n",
       "        <p><a href=https://accounts.google.com/o/oauth2/auth?client_id=517222506229-vsmmajv00ul0bs7p89v5m89qs8eb9359.apps.googleusercontent.com&scope=https%3A%2F%2Fwww.googleapis.com%2Fauth%2Fearthengine+https%3A%2F%2Fwww.googleapis.com%2Fauth%2Fdevstorage.full_control&redirect_uri=urn%3Aietf%3Awg%3Aoauth%3A2.0%3Aoob&response_type=code&code_challenge=mfwk4_WtdrmgeWGX56wcWVwF8ouRxSoH4_By51bhQpg&code_challenge_method=S256>https://accounts.google.com/o/oauth2/auth?client_id=517222506229-vsmmajv00ul0bs7p89v5m89qs8eb9359.apps.googleusercontent.com&scope=https%3A%2F%2Fwww.googleapis.com%2Fauth%2Fearthengine+https%3A%2F%2Fwww.googleapis.com%2Fauth%2Fdevstorage.full_control&redirect_uri=urn%3Aietf%3Awg%3Aoauth%3A2.0%3Aoob&response_type=code&code_challenge=mfwk4_WtdrmgeWGX56wcWVwF8ouRxSoH4_By51bhQpg&code_challenge_method=S256</a></p>\n",
       "        <p>The authorization workflow will generate a code, which you\n",
       "        should paste in the box below</p>\n",
       "        "
      ],
      "text/plain": [
       "<IPython.core.display.HTML object>"
      ]
     },
     "metadata": {},
     "output_type": "display_data"
    },
    {
     "name": "stdout",
     "output_type": "stream",
     "text": [
      "Enter verification code: 4/1AX4XfWidl2T6Fihw9XO0dQBfYf19yyTSI5Cza4i0tc1QY6N1h78d3FPI2hk\n",
      "\n",
      "Successfully saved authorization token.\n"
     ]
    }
   ],
   "source": [
    "Map = geemap.Map()"
   ]
  },
  {
   "cell_type": "code",
   "execution_count": 90,
   "id": "ab0379fb",
   "metadata": {},
   "outputs": [
    {
     "data": {
      "application/vnd.jupyter.widget-view+json": {
       "model_id": "f4d83b8d4a674448a776d75c45eb2f16",
       "version_major": 2,
       "version_minor": 0
      },
      "text/plain": [
       "Map(bottom=833434.0, center=[34.653827001449216, -85.96509933471681], controls=(WidgetControl(options=['positi…"
      ]
     },
     "metadata": {},
     "output_type": "display_data"
    }
   ],
   "source": [
    "Map"
   ]
  },
  {
   "cell_type": "code",
   "execution_count": 4,
   "id": "bb7a2434",
   "metadata": {},
   "outputs": [],
   "source": [
    "#get the NLCD image 2016\n",
    "NLCD = ee.Image('USGS/NLCD/NLCD2016').select('landcover')\n",
    "Map.addLayer(NLCD, {}, 'NLCD')"
   ]
  },
  {
   "cell_type": "code",
   "execution_count": 5,
   "id": "06d8c7a9",
   "metadata": {},
   "outputs": [],
   "source": [
    "#look at the metadata\n",
    "NLCD_meta = ee.FeatureCollection('users/giswqs/landcover/NLCD2016_metadata')\n",
    "Map.addLayer(NLCD_meta, {}, 'NLCD Metadata')"
   ]
  },
  {
   "cell_type": "code",
   "execution_count": 6,
   "id": "64746d89",
   "metadata": {},
   "outputs": [],
   "source": [
    "#create a point for huntsville\n",
    "point = ee.Geometry.Point([-86.58, 34.72])"
   ]
  },
  {
   "cell_type": "code",
   "execution_count": 7,
   "id": "509d435b",
   "metadata": {},
   "outputs": [],
   "source": [
    "#filter metadata to huntsville point\n",
    "metadata = NLCD_meta.filterBounds(point).first()\n",
    "region = metadata.geometry()"
   ]
  },
  {
   "cell_type": "code",
   "execution_count": 8,
   "id": "16ffd0c9",
   "metadata": {},
   "outputs": [
    {
     "data": {
      "text/plain": [
       "'LC08_2016283'"
      ]
     },
     "execution_count": 8,
     "metadata": {},
     "output_type": "execute_result"
    }
   ],
   "source": [
    "metadata.get('2016on_bas').getInfo()"
   ]
  },
  {
   "cell_type": "code",
   "execution_count": 9,
   "id": "cdbaf246",
   "metadata": {},
   "outputs": [
    {
     "data": {
      "text/plain": [
       "'2016283'"
      ]
     },
     "execution_count": 9,
     "metadata": {},
     "output_type": "execute_result"
    }
   ],
   "source": [
    "doy = metadata.get('2016on_bas').getInfo().replace('LC08_', '')\n",
    "doy"
   ]
  },
  {
   "cell_type": "code",
   "execution_count": 10,
   "id": "692265b6",
   "metadata": {},
   "outputs": [
    {
     "data": {
      "text/plain": [
       "'2016-10-09'"
      ]
     },
     "execution_count": 10,
     "metadata": {},
     "output_type": "execute_result"
    }
   ],
   "source": [
    "ee.Date.parse('YYYYDDD', doy).format('YYYY-MM-dd').getInfo()"
   ]
  },
  {
   "cell_type": "code",
   "execution_count": 11,
   "id": "096ff420",
   "metadata": {},
   "outputs": [],
   "source": [
    "#filter landsat imagery by the point \n",
    "startdate = ee.Date.parse('YYYYDDD', doy)\n",
    "enddate = startdate.advance(1, 'day')"
   ]
  },
  {
   "cell_type": "code",
   "execution_count": 12,
   "id": "adf6006b",
   "metadata": {},
   "outputs": [],
   "source": [
    "image = ee.ImageCollection('LANDSAT/LC08/C01/T1_SR').filterBounds(point).filterDate(startdate, enddate).first().select('B[1-7]').clip(region)"
   ]
  },
  {
   "cell_type": "code",
   "execution_count": 13,
   "id": "0fac9c14",
   "metadata": {},
   "outputs": [],
   "source": [
    "vis_params = {\n",
    "    'min': 0,\n",
    "    'max': 3000,\n",
    "    'bands': ['B5', 'B4', 'B3']\n",
    "}"
   ]
  },
  {
   "cell_type": "code",
   "execution_count": 14,
   "id": "3514f985",
   "metadata": {},
   "outputs": [
    {
     "data": {
      "application/vnd.jupyter.widget-view+json": {
       "model_id": "f4d83b8d4a674448a776d75c45eb2f16",
       "version_major": 2,
       "version_minor": 0
      },
      "text/plain": [
       "Map(center=[34.720000000000006, -86.58], controls=(WidgetControl(options=['position', 'transparent_bg'], widge…"
      ]
     },
     "metadata": {},
     "output_type": "display_data"
    }
   ],
   "source": [
    "Map.centerObject(point, 8)\n",
    "Map.addLayer(image, vis_params, 'landsat-8')\n",
    "Map"
   ]
  },
  {
   "cell_type": "code",
   "execution_count": 15,
   "id": "37e6252a",
   "metadata": {},
   "outputs": [],
   "source": [
    "#clip the NLCD to the study region. \n",
    "nlcd_raw = NLCD.clip(region)\n",
    "Map.addLayer(nlcd_raw, {}, 'NLCD_clip')"
   ]
  },
  {
   "cell_type": "code",
   "execution_count": 16,
   "id": "fe1521e7",
   "metadata": {},
   "outputs": [
    {
     "name": "stdout",
     "output_type": "stream",
     "text": [
      "[11, 12, 21, 22, 23, 24, 31, 41, 42, 43, 51, 52, 71, 72, 73, 74, 81, 82, 90, 95]\n"
     ]
    }
   ],
   "source": [
    "#get the class values \n",
    "raw_class_values = nlcd_raw.get('landcover_class_values').getInfo()\n",
    "print(raw_class_values)"
   ]
  },
  {
   "cell_type": "code",
   "execution_count": 17,
   "id": "656bb7f5",
   "metadata": {},
   "outputs": [
    {
     "data": {
      "text/plain": [
       "[0, 1, 2, 3, 4, 5, 6, 7, 8, 9, 10, 11, 12, 13, 14, 15, 16, 17, 18, 19]"
      ]
     },
     "execution_count": 17,
     "metadata": {},
     "output_type": "execute_result"
    }
   ],
   "source": [
    "#remap the classes from 0-len of class values list. \n",
    "n_classes = len(raw_class_values)\n",
    "new_class_values = list(range(0, n_classes))\n",
    "new_class_values"
   ]
  },
  {
   "cell_type": "code",
   "execution_count": 18,
   "id": "9be635e8",
   "metadata": {},
   "outputs": [
    {
     "name": "stdout",
     "output_type": "stream",
     "text": [
      "['476ba1', 'd1defa', 'decaca', 'd99482', 'ee0000', 'ab0000', 'b3aea3', '68ab63', '1c6330', 'b5ca8f', 'a68c30', 'ccba7d', 'e3e3c2', 'caca78', '99c247', '78ae94', 'dcd93d', 'ab7028', 'bad9eb', '70a3ba']\n"
     ]
    }
   ],
   "source": [
    "class_palette = nlcd_raw.get('landcover_class_palette').getInfo()\n",
    "print(class_palette)"
   ]
  },
  {
   "cell_type": "code",
   "execution_count": 19,
   "id": "dde2737f",
   "metadata": {},
   "outputs": [],
   "source": [
    "#create new, remaped landcover bands\n",
    "nlcd = nlcd_raw.remap(raw_class_values, new_class_values).select(['remapped'], ['landcover'])\n",
    "nlcd = nlcd.set('landcover_class_values', new_class_values)\n",
    "nlcd = nlcd.set('landcover_class_palette', class_palette)"
   ]
  },
  {
   "cell_type": "code",
   "execution_count": 20,
   "id": "82f52799",
   "metadata": {},
   "outputs": [
    {
     "data": {
      "application/vnd.jupyter.widget-view+json": {
       "model_id": "f4d83b8d4a674448a776d75c45eb2f16",
       "version_major": 2,
       "version_minor": 0
      },
      "text/plain": [
       "Map(center=[34.720000000000006, -86.58], controls=(WidgetControl(options=['position', 'transparent_bg'], widge…"
      ]
     },
     "metadata": {},
     "output_type": "display_data"
    }
   ],
   "source": [
    "Map.addLayer(nlcd, {}, 'NLCD_remaped')\n",
    "Map"
   ]
  },
  {
   "cell_type": "code",
   "execution_count": 21,
   "id": "ad991e51",
   "metadata": {},
   "outputs": [],
   "source": [
    "#make the training data \n",
    "points = nlcd.sample(**{\n",
    "    'region': region,\n",
    "    'scale': 30,\n",
    "    'numPixels': 5000,\n",
    "    'seed': 0,\n",
    "    'geometries': True\n",
    "})\n",
    "\n",
    "Map.addLayer(points, {}, 'training')"
   ]
  },
  {
   "cell_type": "code",
   "execution_count": 22,
   "id": "99217f26",
   "metadata": {},
   "outputs": [
    {
     "data": {
      "text/plain": [
       "5000"
      ]
     },
     "execution_count": 22,
     "metadata": {},
     "output_type": "execute_result"
    }
   ],
   "source": [
    "points.size().getInfo()"
   ]
  },
  {
   "cell_type": "code",
   "execution_count": 23,
   "id": "b2d417f1",
   "metadata": {
    "scrolled": true
   },
   "outputs": [
    {
     "name": "stdout",
     "output_type": "stream",
     "text": [
      "{'type': 'Feature', 'geometry': {'type': 'Point', 'coordinates': [-85.76019437562952, 34.24361130908887]}, 'id': '0', 'properties': {'landcover': 8}}\n"
     ]
    }
   ],
   "source": [
    "print(points.first().getInfo())"
   ]
  },
  {
   "cell_type": "code",
   "execution_count": 24,
   "id": "1bf65c85",
   "metadata": {},
   "outputs": [],
   "source": [
    "#create the training data\n",
    "bands = ['B1', 'B2', 'B3', 'B4', 'B5', 'B6', 'B7']\n",
    "\n",
    "#landcover label\n",
    "label = 'landcover'\n",
    "\n",
    "#sample the imagery for training data\n",
    "sample = image.select(bands).sampleRegions(**{\n",
    "    'collection': points,\n",
    "    'properties': [label],\n",
    "    'scale': 30,\n",
    "})\n",
    "\n",
    "#add column of numbers to randomize by \n",
    "sample = sample.randomColumn()\n",
    "\n",
    "#train test split for validation\n",
    "split = 0.7\n",
    "\n",
    "training = sample.filter(ee.Filter.lt('random', split))\n",
    "validation = sample.filter(ee.Filter.gte('random', split))\n"
   ]
  },
  {
   "cell_type": "code",
   "execution_count": 28,
   "id": "679ace41",
   "metadata": {},
   "outputs": [
    {
     "name": "stdout",
     "output_type": "stream",
     "text": [
      "{'type': 'Feature', 'geometry': None, 'id': '1_0', 'properties': {'B1': 110, 'B2': 140, 'B3': 341, 'B4': 227, 'B5': 2843, 'B6': 1360, 'B7': 535, 'landcover': 7, 'random': 0.16635075374547859}}\n"
     ]
    }
   ],
   "source": [
    "print(training.first().getInfo())"
   ]
  },
  {
   "cell_type": "code",
   "execution_count": 29,
   "id": "5692e53c",
   "metadata": {},
   "outputs": [
    {
     "name": "stdout",
     "output_type": "stream",
     "text": [
      "{'type': 'Feature', 'geometry': None, 'id': '0_0', 'properties': {'B1': 83, 'B2': 113, 'B3': 279, 'B4': 190, 'B5': 2442, 'B6': 929, 'B7': 368, 'landcover': 8, 'random': 0.8142236509732306}}\n"
     ]
    }
   ],
   "source": [
    "print(validation.first().getInfo())"
   ]
  },
  {
   "cell_type": "code",
   "execution_count": 30,
   "id": "131991df",
   "metadata": {},
   "outputs": [],
   "source": [
    "#train the classifier \n",
    "classifier = ee.Classifier.smileRandomForest(10).train(training, label, bands)"
   ]
  },
  {
   "cell_type": "code",
   "execution_count": 32,
   "id": "f6e7bb81",
   "metadata": {},
   "outputs": [
    {
     "name": "stdout",
     "output_type": "stream",
     "text": [
      "{'type': 'Classifier.train', 'classifier': {'type': 'Classifier.smileRandomForest', 'numberOfTrees': 10}, 'features': {'type': 'FeatureCollection', 'columns': {'random': '<any>'}}, 'classProperty': 'landcover', 'inputProperties': ['B1', 'B2', 'B3', 'B4', 'B5', 'B6', 'B7']}\n"
     ]
    }
   ],
   "source": [
    "print(classifier.getInfo())"
   ]
  },
  {
   "cell_type": "code",
   "execution_count": 34,
   "id": "83629c2c",
   "metadata": {},
   "outputs": [],
   "source": [
    "result = image.select(bands).classify(classifier)\n",
    "Map.addLayer(result.randomVisualizer(), {}, 'classified')"
   ]
  },
  {
   "cell_type": "code",
   "execution_count": 35,
   "id": "bb368685",
   "metadata": {},
   "outputs": [
    {
     "data": {
      "application/vnd.jupyter.widget-view+json": {
       "model_id": "f4d83b8d4a674448a776d75c45eb2f16",
       "version_major": 2,
       "version_minor": 0
      },
      "text/plain": [
       "Map(bottom=26321.0, center=[34.720000000000006, -86.58], controls=(WidgetControl(options=['position', 'transpa…"
      ]
     },
     "metadata": {},
     "output_type": "display_data"
    }
   ],
   "source": [
    "Map"
   ]
  },
  {
   "cell_type": "code",
   "execution_count": 36,
   "id": "dfff3294",
   "metadata": {},
   "outputs": [
    {
     "name": "stdout",
     "output_type": "stream",
     "text": [
      "[0, 1, 2, 3, 4, 5, 6, 7, 8, 9, 10, 11, 12, 13, 14, 15, 16, 17, 18, 19]\n"
     ]
    }
   ],
   "source": [
    "#get the class values and palette and set them to the image \n",
    "class_values = nlcd.get('landcover_class_values').getInfo()\n",
    "print(class_values)"
   ]
  },
  {
   "cell_type": "code",
   "execution_count": 37,
   "id": "b0b15fbd",
   "metadata": {},
   "outputs": [
    {
     "name": "stdout",
     "output_type": "stream",
     "text": [
      "['476ba1', 'd1defa', 'decaca', 'd99482', 'ee0000', 'ab0000', 'b3aea3', '68ab63', '1c6330', 'b5ca8f', 'a68c30', 'ccba7d', 'e3e3c2', 'caca78', '99c247', '78ae94', 'dcd93d', 'ab7028', 'bad9eb', '70a3ba']\n"
     ]
    }
   ],
   "source": [
    "class_palette = nlcd.get('landcover_class_palette').getInfo()\n",
    "print(class_palette)"
   ]
  },
  {
   "cell_type": "code",
   "execution_count": 41,
   "id": "9d2b5f0b",
   "metadata": {},
   "outputs": [],
   "source": [
    "landcover = result.set('classification_class_values', class_values)\n",
    "landcover = landcover.set('classification_class_palette', class_palette)"
   ]
  },
  {
   "cell_type": "code",
   "execution_count": 73,
   "id": "5d0fa6dd",
   "metadata": {},
   "outputs": [],
   "source": [
    "Map.addLayer(landcover, {}, 'Land Cover - Random Forest')"
   ]
  },
  {
   "cell_type": "code",
   "execution_count": 51,
   "id": "8298b06b",
   "metadata": {},
   "outputs": [
    {
     "name": "stdout",
     "output_type": "stream",
     "text": [
      "Change Opacity: \n"
     ]
    },
    {
     "data": {
      "application/vnd.jupyter.widget-view+json": {
       "model_id": "a2754079770d454a8701357dfa58d314",
       "version_major": 2,
       "version_minor": 0
      },
      "text/plain": [
       "Box(children=(FloatSlider(value=1.0, description='opacity', max=1.0),))"
      ]
     },
     "metadata": {},
     "output_type": "display_data"
    }
   ],
   "source": [
    "print('Change Opacity: ')\n",
    "cluster_layer = Map.layers[-1]\n",
    "cluster_layer.interact(opacity=(0, 1, 0.1))"
   ]
  },
  {
   "cell_type": "code",
   "execution_count": 53,
   "id": "a33892e8",
   "metadata": {},
   "outputs": [],
   "source": [
    "#add a legend \n",
    "Map.add_legend(builtin_legend='NLCD')"
   ]
  },
  {
   "cell_type": "code",
   "execution_count": 54,
   "id": "f5385738",
   "metadata": {},
   "outputs": [],
   "source": [
    "train_acc = classifier.confusionMatrix()"
   ]
  },
  {
   "cell_type": "code",
   "execution_count": 55,
   "id": "f816adb1",
   "metadata": {},
   "outputs": [
    {
     "data": {
      "text/plain": [
       "[[101, 0, 0, 0, 0, 0, 0, 2, 0, 0, 0, 0, 0, 0, 0, 0, 0, 0, 0, 0],\n",
       " [0, 0, 0, 0, 0, 0, 0, 0, 0, 0, 0, 0, 0, 0, 0, 0, 0, 0, 0, 0],\n",
       " [1, 0, 178, 2, 0, 0, 0, 9, 1, 1, 0, 0, 0, 0, 0, 0, 13, 1, 0, 0],\n",
       " [0, 0, 1, 91, 2, 0, 0, 0, 0, 0, 0, 0, 0, 0, 0, 0, 2, 0, 0, 0],\n",
       " [0, 0, 0, 3, 35, 0, 0, 0, 0, 0, 0, 0, 0, 0, 0, 0, 0, 0, 0, 0],\n",
       " [0, 0, 0, 0, 0, 7, 0, 0, 0, 0, 0, 0, 0, 0, 0, 0, 1, 0, 0, 0],\n",
       " [0, 0, 0, 0, 0, 0, 2, 0, 0, 0, 0, 0, 0, 0, 0, 0, 0, 0, 0, 0],\n",
       " [0, 0, 1, 0, 0, 0, 0, 1337, 2, 4, 0, 0, 0, 0, 0, 0, 8, 0, 0, 0],\n",
       " [0, 0, 2, 0, 0, 0, 0, 11, 227, 2, 0, 0, 0, 0, 0, 0, 2, 2, 0, 0],\n",
       " [1, 0, 0, 0, 0, 0, 0, 39, 8, 214, 0, 0, 0, 0, 0, 0, 1, 0, 0, 0],\n",
       " [0, 0, 0, 0, 0, 0, 0, 0, 0, 0, 0, 0, 0, 0, 0, 0, 0, 0, 0, 0],\n",
       " [0, 0, 1, 0, 0, 0, 0, 9, 2, 0, 0, 70, 0, 0, 0, 0, 2, 0, 0, 0],\n",
       " [0, 0, 2, 0, 0, 0, 0, 2, 0, 0, 0, 0, 67, 0, 0, 0, 10, 0, 0, 0],\n",
       " [0, 0, 0, 0, 0, 0, 0, 0, 0, 0, 0, 0, 0, 0, 0, 0, 0, 0, 0, 0],\n",
       " [0, 0, 0, 0, 0, 0, 0, 0, 0, 0, 0, 0, 0, 0, 0, 0, 0, 0, 0, 0],\n",
       " [0, 0, 0, 0, 0, 0, 0, 0, 0, 0, 0, 0, 0, 0, 0, 0, 0, 0, 0, 0],\n",
       " [0, 0, 2, 0, 0, 0, 0, 17, 2, 1, 0, 0, 2, 0, 0, 0, 768, 5, 0, 0],\n",
       " [0, 0, 1, 0, 0, 0, 0, 1, 0, 0, 0, 1, 1, 0, 0, 0, 8, 163, 0, 0],\n",
       " [0, 0, 0, 0, 0, 0, 0, 11, 0, 1, 0, 0, 1, 0, 0, 0, 1, 0, 45, 0],\n",
       " [0, 0, 0, 0, 0, 0, 0, 0, 0, 0, 0, 0, 0, 0, 0, 0, 1, 0, 0, 5]]"
      ]
     },
     "execution_count": 55,
     "metadata": {},
     "output_type": "execute_result"
    }
   ],
   "source": [
    "train_acc.getInfo()"
   ]
  },
  {
   "cell_type": "code",
   "execution_count": 57,
   "id": "189c5d97",
   "metadata": {},
   "outputs": [
    {
     "data": {
      "text/plain": [
       "0.941410693970421"
      ]
     },
     "execution_count": 57,
     "metadata": {},
     "output_type": "execute_result"
    }
   ],
   "source": [
    "#sum of diagonal divided by all numbers\n",
    "train_acc.accuracy().getInfo()"
   ]
  },
  {
   "cell_type": "code",
   "execution_count": 58,
   "id": "34e74a4c",
   "metadata": {},
   "outputs": [
    {
     "data": {
      "text/plain": [
       "0.9241130354261963"
      ]
     },
     "execution_count": 58,
     "metadata": {},
     "output_type": "execute_result"
    }
   ],
   "source": [
    "#kappa - 0-1, 1 is better suggesting that it is better than random\n",
    "train_acc.kappa().getInfo()"
   ]
  },
  {
   "cell_type": "code",
   "execution_count": 67,
   "id": "7d0d0059",
   "metadata": {},
   "outputs": [
    {
     "data": {
      "text/plain": [
       "[[0.988905325443787], [0.9227642276422764], [0.8136882129277566]]"
      ]
     },
     "execution_count": 67,
     "metadata": {},
     "output_type": "execute_result"
    }
   ],
   "source": [
    "#percentage of correct - percent incorrect for each class of tree\n",
    "train_acc.producersAccuracy().getInfo()[7:10]\n",
    "#Deciduous, Evergreen, Mixed"
   ]
  },
  {
   "cell_type": "code",
   "execution_count": 60,
   "id": "eca1417d",
   "metadata": {},
   "outputs": [],
   "source": [
    "validated = validation.classify(classifier) "
   ]
  },
  {
   "cell_type": "code",
   "execution_count": 61,
   "id": "45ad0d35",
   "metadata": {},
   "outputs": [
    {
     "data": {
      "text/plain": [
       "{'type': 'Feature',\n",
       " 'geometry': None,\n",
       " 'id': '0_0',\n",
       " 'properties': {'B1': 83,\n",
       "  'B2': 113,\n",
       "  'B3': 279,\n",
       "  'B4': 190,\n",
       "  'B5': 2442,\n",
       "  'B6': 929,\n",
       "  'B7': 368,\n",
       "  'classification': 8,\n",
       "  'landcover': 8,\n",
       "  'random': 0.8142236509732306}}"
      ]
     },
     "execution_count": 61,
     "metadata": {},
     "output_type": "execute_result"
    }
   ],
   "source": [
    "validated.first().getInfo()"
   ]
  },
  {
   "cell_type": "code",
   "execution_count": 62,
   "id": "cbba6c11",
   "metadata": {},
   "outputs": [],
   "source": [
    "test_accuracy = validated.errorMatrix('landcover', 'classification')"
   ]
  },
  {
   "cell_type": "code",
   "execution_count": 64,
   "id": "7f652489",
   "metadata": {},
   "outputs": [
    {
     "data": {
      "text/plain": [
       "0.6030997304582211"
      ]
     },
     "execution_count": 64,
     "metadata": {},
     "output_type": "execute_result"
    }
   ],
   "source": [
    "test_accuracy.accuracy().getInfo()"
   ]
  },
  {
   "cell_type": "code",
   "execution_count": 65,
   "id": "c8c6b9c5",
   "metadata": {},
   "outputs": [
    {
     "data": {
      "text/plain": [
       "0.46445392222758003"
      ]
     },
     "execution_count": 65,
     "metadata": {},
     "output_type": "execute_result"
    }
   ],
   "source": [
    "test_accuracy.kappa().getInfo()"
   ]
  },
  {
   "cell_type": "code",
   "execution_count": 68,
   "id": "6d4f9ad4",
   "metadata": {},
   "outputs": [
    {
     "data": {
      "text/plain": [
       "[[0.8754512635379061], [0.5137614678899083], [0.08943089430894309]]"
      ]
     },
     "execution_count": 68,
     "metadata": {},
     "output_type": "execute_result"
    }
   ],
   "source": [
    "test_accuracy.producersAccuracy().getInfo()[7:10]"
   ]
  },
  {
   "cell_type": "code",
   "execution_count": 88,
   "id": "c0f156d3",
   "metadata": {},
   "outputs": [],
   "source": [
    "#compare to a different model - smilecart regressor\n",
    "classifier2 = ee.Classifier.smileCart().train(training, label, bands)"
   ]
  },
  {
   "cell_type": "code",
   "execution_count": 82,
   "id": "d5e9049b",
   "metadata": {},
   "outputs": [],
   "source": [
    "result2 = image.select(bands).classify(classifier2)"
   ]
  },
  {
   "cell_type": "code",
   "execution_count": 83,
   "id": "c5060d1b",
   "metadata": {},
   "outputs": [],
   "source": [
    "landcover2 = result2.set('classification_class_values', class_values)\n",
    "landcover2 = landcover2.set('classification_class_palette', class_palette)"
   ]
  },
  {
   "cell_type": "code",
   "execution_count": 85,
   "id": "711c2a88",
   "metadata": {},
   "outputs": [],
   "source": [
    "Map.addLayer(landcover2, {}, 'Landcover - SmileCart')"
   ]
  },
  {
   "cell_type": "code",
   "execution_count": 86,
   "id": "43c99fd5",
   "metadata": {},
   "outputs": [
    {
     "data": {
      "application/vnd.jupyter.widget-view+json": {
       "model_id": "f4d83b8d4a674448a776d75c45eb2f16",
       "version_major": 2,
       "version_minor": 0
      },
      "text/plain": [
       "Map(bottom=26214.0, center=[35.200744801724014, -85.6494140625], controls=(WidgetControl(options=['position', …"
      ]
     },
     "metadata": {},
     "output_type": "display_data"
    }
   ],
   "source": [
    "Map"
   ]
  },
  {
   "cell_type": "code",
   "execution_count": 87,
   "id": "16538b48",
   "metadata": {},
   "outputs": [],
   "source": [
    "Map.remove_legends()"
   ]
  },
  {
   "cell_type": "code",
   "execution_count": 89,
   "id": "2e8bc324",
   "metadata": {},
   "outputs": [
    {
     "data": {
      "text/plain": [
       "1"
      ]
     },
     "execution_count": 89,
     "metadata": {},
     "output_type": "execute_result"
    }
   ],
   "source": [
    "#accuracy\n",
    "train_acc2 = classifier2.confusionMatrix()\n",
    "train_acc2.accuracy().getInfo()"
   ]
  },
  {
   "cell_type": "code",
   "execution_count": null,
   "id": "560c977c",
   "metadata": {},
   "outputs": [],
   "source": []
  }
 ],
 "metadata": {
  "kernelspec": {
   "display_name": "Python 3 (ipykernel)",
   "language": "python",
   "name": "python3"
  },
  "language_info": {
   "codemirror_mode": {
    "name": "ipython",
    "version": 3
   },
   "file_extension": ".py",
   "mimetype": "text/x-python",
   "name": "python",
   "nbconvert_exporter": "python",
   "pygments_lexer": "ipython3",
   "version": "3.9.7"
  }
 },
 "nbformat": 4,
 "nbformat_minor": 5
}
